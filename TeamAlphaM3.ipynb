{
 "cells": [
  {
   "cell_type": "code",
   "execution_count": 223,
   "id": "8d8354b2-0054-4107-9fa3-bcdf882efecb",
   "metadata": {},
   "outputs": [],
   "source": [
    "from pyspark.sql import SparkSession\n",
    "from pyspark.sql.types import StructType, StructField, IntegerType, StringType, FloatType, ArrayType, LongType, DateType\n",
    "\n",
    "# Define the schema\n",
    "schema = StructType([\n",
    "    StructField(\"rowno\", IntegerType(), True),\n",
    "    StructField(\"id\", IntegerType(), True),\n",
    "    StructField(\"original_language\", StringType(), True),\n",
    "    StructField(\"original_title\", StringType(), True),\n",
    "    StructField(\"popularity\", FloatType(), True),\n",
    "    StructField(\"release_date\", DateType(), True),\n",
    "    StructField(\"vote_average\", FloatType(), True),\n",
    "    StructField(\"vote_count\", IntegerType(), True),\n",
    "    StructField(\"genre\", StringType(), True),\n",
    "    StructField(\"overview\", StringType(), True),\n",
    "    StructField(\"revenue\", LongType(), True),\n",
    "    StructField(\"runtime\", IntegerType(), True),\n",
    "    StructField(\"tagline\", StringType(), True)\n",
    "])\n",
    "\n",
    "\n",
    "spark = SparkSession.builder.appName('Movie Analysis').getOrCreate()"
   ]
  },
  {
   "cell_type": "code",
   "execution_count": 224,
   "id": "84c65446-15cf-4466-87bc-5c213a2c3856",
   "metadata": {},
   "outputs": [],
   "source": [
    "movies_df = spark.read.csv('Top_10000_Movies.csv', header = True, schema=schema )"
   ]
  },
  {
   "cell_type": "code",
   "execution_count": 225,
   "id": "739e8107-432f-4b0a-991b-f893b5e2a306",
   "metadata": {},
   "outputs": [
    {
     "data": {
      "text/plain": [
       "[Row(rowno=66, id=19995, original_language='en', original_title='Avatar', popularity=374.0589904785156, release_date=None, vote_average=7.5, vote_count=24280, genre=\"['Action', 'Adventure', 'Fantasy', 'Science Fiction']\", overview='In the 22nd century, a paraplegic Marine is dispatched to the moon Pandora on a unique mission, but becomes torn between following orders and protecting an alien civilization.', revenue=2847246203, runtime=162, tagline='Enter the World of Pandora.'),\n",
       " Row(rowno=167, id=299534, original_language='en', original_title='Avengers: Endgame', popularity=193.86000061035156, release_date=None, vote_average=8.300000190734863, vote_count=19434, genre=\"['Adventure', 'Science Fiction', 'Action']\", overview=\"After the devastating events of Avengers: Infinity War, the universe is in ruins due to the efforts of the Mad Titan, Thanos. With the help of remaining allies, the Avengers must assemble once more in order to undo Thanos' actions and restore order to the universe once and for all, no matter what consequences may be in store.\", revenue=2797800564, runtime=181, tagline='Part of the journey is the end.'),\n",
       " Row(rowno=489, id=597, original_language='en', original_title='Titanic', popularity=94.23500061035156, release_date=None, vote_average=7.900000095367432, vote_count=19999, genre=\"['Drama', 'Romance']\", overview=\"101-year-old Rose DeWitt Bukater tells the story of her life aboard the Titanic, 84 years later. A young Rose boards the ship with her mother and fiancé. Meanwhile, Jack Dawson and Fabrizio De Rossi win third-class tickets aboard the ship. Rose tells the whole story from Titanic's departure through to its death—on its first and last voyage—on April 15, 1912.\", revenue=2187463944, runtime=194, tagline='Nothing on Earth could come between them.'),\n",
       " Row(rowno=1013, id=140607, original_language='en', original_title='Star Wars: The Force Awakens', popularity=59.00699996948242, release_date=None, vote_average=7.300000190734863, vote_count=16314, genre=\"['Action', 'Adventure', 'Science Fiction', 'Fantasy']\", overview='Thirty years after defeating the Galactic Empire, Han Solo and his allies face a new threat from the evil Kylo Ren and his army of Stormtroopers.', revenue=2068223624, runtime=136, tagline='Every generation has a story.'),\n",
       " Row(rowno=97, id=299536, original_language='en', original_title='Avengers: Infinity War', popularity=307.18798828125, release_date=None, vote_average=8.300000190734863, vote_count=23027, genre=\"['Adventure', 'Action', 'Science Fiction']\", overview='As the Avengers and their allies have continued to protect the world from threats too large for any one hero to handle, a new danger has emerged from the cosmic shadows: Thanos. A despot of intergalactic infamy, his goal is to collect all six Infinity Stones, artifacts of unimaginable power, and use them to inflict his twisted will on all of reality. Everything the Avengers have fought for has led up to this moment - the fate of Earth and existence itself has never been more uncertain.', revenue=2046239637, runtime=149, tagline='An entire universe. Once and for all.')]"
      ]
     },
     "execution_count": 225,
     "metadata": {},
     "output_type": "execute_result"
    }
   ],
   "source": [
    "movies_df.head(5)"
   ]
  },
  {
   "cell_type": "code",
   "execution_count": 226,
   "id": "268212e1-573a-49bf-8d28-8413e7941a56",
   "metadata": {},
   "outputs": [
    {
     "name": "stdout",
     "output_type": "stream",
     "text": [
      "root\n",
      " |-- rowno: integer (nullable = true)\n",
      " |-- id: integer (nullable = true)\n",
      " |-- original_language: string (nullable = true)\n",
      " |-- original_title: string (nullable = true)\n",
      " |-- popularity: float (nullable = true)\n",
      " |-- release_date: date (nullable = true)\n",
      " |-- vote_average: float (nullable = true)\n",
      " |-- vote_count: integer (nullable = true)\n",
      " |-- genre: string (nullable = true)\n",
      " |-- overview: string (nullable = true)\n",
      " |-- revenue: long (nullable = true)\n",
      " |-- runtime: integer (nullable = true)\n",
      " |-- tagline: string (nullable = true)\n",
      "\n"
     ]
    }
   ],
   "source": [
    "movies_df.printSchema()"
   ]
  },
  {
   "cell_type": "code",
   "execution_count": 227,
   "id": "373a0595-4499-4620-86a9-4b1d51904934",
   "metadata": {},
   "outputs": [
    {
     "name": "stdout",
     "output_type": "stream",
     "text": [
      "Total Rows: 10036\n",
      "+-----+------+-----------------+--------------------+----------+------------+------------+----------+--------------------+--------------------+----------+-------+--------------------+\n",
      "|rowno|    id|original_language|      original_title|popularity|release_date|vote_average|vote_count|               genre|            overview|   revenue|runtime|             tagline|\n",
      "+-----+------+-----------------+--------------------+----------+------------+------------+----------+--------------------+--------------------+----------+-------+--------------------+\n",
      "|   66| 19995|               en|              Avatar|   374.059|        NULL|         7.5|     24280|['Action', 'Adven...|In the 22nd centu...|2847246203|    162|Enter the World o...|\n",
      "|  167|299534|               en|   Avengers: Endgame|    193.86|        NULL|         8.3|     19434|['Adventure', 'Sc...|After the devasta...|2797800564|    181|Part of the journ...|\n",
      "|  489|   597|               en|             Titanic|    94.235|        NULL|         7.9|     19999|['Drama', 'Romance']|101-year-old Rose...|2187463944|    194|Nothing on Earth ...|\n",
      "| 1013|140607|               en|Star Wars: The Fo...|    59.007|        NULL|         7.3|     16314|['Action', 'Adven...|Thirty years afte...|2068223624|    136|Every generation ...|\n",
      "|   97|299536|               en|Avengers: Infinit...|   307.188|        NULL|         8.3|     23027|['Adventure', 'Ac...|As the Avengers a...|2046239637|    149|An entire univers...|\n",
      "+-----+------+-----------------+--------------------+----------+------------+------------+----------+--------------------+--------------------+----------+-------+--------------------+\n",
      "only showing top 5 rows\n",
      "\n"
     ]
    }
   ],
   "source": [
    "# Count rows and inspect the first few rows\n",
    "print(f\"Total Rows: {movies_df.count()}\")\n",
    "movies_df.show(5)\n"
   ]
  },
  {
   "cell_type": "code",
   "execution_count": 228,
   "id": "21d516f8-2089-44c7-877e-da8f3934bb3f",
   "metadata": {},
   "outputs": [],
   "source": [
    "movies_df.createOrReplaceTempView(\"Movies\")"
   ]
  },
  {
   "cell_type": "code",
   "execution_count": 229,
   "id": "a153c6b9-5552-4835-b1e0-3a4fb231d88a",
   "metadata": {},
   "outputs": [
    {
     "name": "stdout",
     "output_type": "stream",
     "text": [
      "+--------------------+----------+\n",
      "|      original_title|   revenue|\n",
      "+--------------------+----------+\n",
      "|              Avatar|2847246203|\n",
      "|   Avengers: Endgame|2797800564|\n",
      "|             Titanic|2187463944|\n",
      "|Star Wars: The Fo...|2068223624|\n",
      "|Avengers: Infinit...|2046239637|\n",
      "|      Jurassic World|1671713208|\n",
      "|       The Lion King|1667635327|\n",
      "|        The Avengers|1518815515|\n",
      "|           Furious 7|1515047671|\n",
      "|           Frozen II|1450026933|\n",
      "+--------------------+----------+\n",
      "\n"
     ]
    }
   ],
   "source": [
    "#List the top ten highest-grossing films together with their titles and earnings.\n",
    "topMovies = spark.sql(\"\"\"SELECT original_title, revenue\n",
    "FROM movies\n",
    "ORDER BY revenue DESC\n",
    "LIMIT 10\n",
    "\"\"\")\n",
    "topMovies.show()"
   ]
  },
  {
   "cell_type": "code",
   "execution_count": 230,
   "id": "aa89614a-49ea-4e1d-8532-52caf97fdeb8",
   "metadata": {},
   "outputs": [
    {
     "name": "stdout",
     "output_type": "stream",
     "text": [
      "+------------------------------------+----------+\n",
      "|                      original_title|popularity|\n",
      "+------------------------------------+----------+\n",
      "|                Venom: Let There ...|  5401.308|\n",
      "|                            Eternals|  3365.535|\n",
      "|                                Dune|  2911.423|\n",
      "|                     Army of Thieves|  2552.437|\n",
      "|                            Free Guy|   1850.47|\n",
      "|                 Gunpowder Milkshake|  1453.423|\n",
      "|                Shang-Chi and the...|   1327.18|\n",
      "|                               Venom|  1212.352|\n",
      "|                     American Badger|  1148.822|\n",
      "|劇場版 七つの大罪 光に呪われし者たち|  1108.815|\n",
      "|                W lesie dziś nie ...|  1089.852|\n",
      "|                Snake Eyes: G.I. ...|  1052.222|\n",
      "|                           The Vault|   1046.86|\n",
      "|                 The Addams Family 2|  1031.821|\n",
      "|                     Halloween Kills|  1023.024|\n",
      "|                    W jak morderstwo|   957.866|\n",
      "|                Peçanha Contra o ...|   943.619|\n",
      "|        劇場版「鬼滅の刃」無限列車編|   897.913|\n",
      "|                        I onde dager|   863.019|\n",
      "|                      The Deep House|   848.536|\n",
      "+------------------------------------+----------+\n",
      "only showing top 20 rows\n",
      "\n"
     ]
    }
   ],
   "source": [
    "# #Display movies in descending order by popularity score.\n",
    "popular_movies = spark.sql(\"\"\"\n",
    "    SELECT original_title, popularity\n",
    "    FROM movies\n",
    "    ORDER BY popularity DESC\n",
    "\"\"\")\n",
    "popular_movies.show()\n"
   ]
  },
  {
   "cell_type": "code",
   "execution_count": 231,
   "id": "2bbb916e-7c30-4538-aab7-61bd84e3b49e",
   "metadata": {},
   "outputs": [
    {
     "name": "stdout",
     "output_type": "stream",
     "text": [
      "+-----------------+------------+\n",
      "|original_language|total_movies|\n",
      "+-----------------+------------+\n",
      "|               en|        7798|\n",
      "|               ja|         609|\n",
      "|               es|         417|\n",
      "|               fr|         293|\n",
      "|               ko|         140|\n",
      "|               it|         104|\n",
      "|               zh|         103|\n",
      "|               cn|          79|\n",
      "|               de|          78|\n",
      "|               ru|          69|\n",
      "|               pt|          55|\n",
      "|               hi|          30|\n",
      "|               da|          30|\n",
      "|               no|          24|\n",
      "|             NULL|          23|\n",
      "|               sv|          22|\n",
      "|               pl|          19|\n",
      "|               nl|          19|\n",
      "|               th|          15|\n",
      "|               id|          15|\n",
      "+-----------------+------------+\n",
      "only showing top 20 rows\n",
      "\n"
     ]
    }
   ],
   "source": [
    "# Calculate the total number of movies produced in each language.\n",
    "movies_per_language = spark.sql(\"\"\"\n",
    "    SELECT original_language, COUNT(*) AS total_movies\n",
    "    FROM movies\n",
    "    GROUP BY original_language\n",
    "    ORDER BY total_movies DESC\n",
    "\"\"\")\n",
    "movies_per_language.show()\n"
   ]
  },
  {
   "cell_type": "code",
   "execution_count": 232,
   "id": "2888b917-69f1-4e2e-b909-ecf51d8741b7",
   "metadata": {},
   "outputs": [
    {
     "name": "stdout",
     "output_type": "stream",
     "text": [
      "+--------------------+----------+\n",
      "|      original_title|   runtime|\n",
      "+--------------------+----------+\n",
      "|         Toy Story 4|1073394593|\n",
      "|The Hunger Games:...| 847423452|\n",
      "|           Inception| 825532764|\n",
      "|  Gone with the Wind| 402352579|\n",
      "|Spider-Man: Into ...| 375540831|\n",
      "|        A Bug's Life| 363258859|\n",
      "|             Top Gun| 356830601|\n",
      "|           Enchanted| 340487652|\n",
      "|Inglourious Basterds| 321455689|\n",
      "|        Ghostbusters| 296187079|\n",
      "|         The Tourist| 278731369|\n",
      "|     Dumb and Dumber| 247275374|\n",
      "|              8 Mile| 242875078|\n",
      "|Gone in Sixty Sec...| 237202299|\n",
      "|            The Help| 216639112|\n",
      "|             Everest| 203427584|\n",
      "|Snow White and th...| 184925486|\n",
      "| In the Line of Fire| 176997168|\n",
      "|       Evan Almighty| 174440724|\n",
      "|          The Island| 162949164|\n",
      "+--------------------+----------+\n",
      "only showing top 20 rows\n",
      "\n"
     ]
    }
   ],
   "source": [
    "# Fetch movies’ names with the longest runtime \n",
    "longest_runtime_movies = spark.sql(\"\"\"\n",
    "    SELECT original_title, runtime\n",
    "    FROM movies\n",
    "    WHERE runtime IS NOT NULL\n",
    "    ORDER BY runtime DESC\n",
    "\"\"\")\n",
    "longest_runtime_movies.show()\n"
   ]
  },
  {
   "cell_type": "code",
   "execution_count": 233,
   "id": "187c0b25-8699-4c7e-88d5-027d6fd94c4d",
   "metadata": {},
   "outputs": [
    {
     "name": "stdout",
     "output_type": "stream",
     "text": [
      "+-----------------+-----------+\n",
      "|original_language|total_votes|\n",
      "+-----------------+-----------+\n",
      "|               en|   12308900|\n",
      "|               ja|     192866|\n",
      "|               fr|     185384|\n",
      "|               es|     106373|\n",
      "|               it|      79523|\n",
      "|               ko|      69952|\n",
      "|               de|      40024|\n",
      "|               cn|      28625|\n",
      "|               zh|      23190|\n",
      "|               ru|      16890|\n",
      "|               sv|      16034|\n",
      "|               pt|      13600|\n",
      "|               da|      12564|\n",
      "|               hi|      10409|\n",
      "|               pl|       9085|\n",
      "|               no|       6753|\n",
      "|               id|       5570|\n",
      "|               tr|       4954|\n",
      "|               th|       4945|\n",
      "|               nl|       3226|\n",
      "+-----------------+-----------+\n",
      "only showing top 20 rows\n",
      "\n"
     ]
    }
   ],
   "source": [
    "# Determine the Vote Count Per Language\n",
    "vote_count_per_language = spark.sql(\"\"\"\n",
    "    SELECT original_language, SUM(vote_count) AS total_votes\n",
    "    FROM movies\n",
    "    GROUP BY original_language\n",
    "    ORDER BY total_votes DESC\n",
    "\"\"\")\n",
    "vote_count_per_language.show()\n"
   ]
  },
  {
   "cell_type": "code",
   "execution_count": 234,
   "id": "09e7971f-d826-4953-8605-6988e04cf6fc",
   "metadata": {
    "scrolled": true
   },
   "outputs": [
    {
     "name": "stdout",
     "output_type": "stream",
     "text": [
      "+-----------------+------------------+\n",
      "|original_language|     average_votes|\n",
      "+-----------------+------------------+\n",
      "|               ar| 8.300000190734863|\n",
      "|               ms| 7.699999809265137|\n",
      "|               tr|7.2200000286102295|\n",
      "|               la| 7.099999904632568|\n",
      "|               ta| 6.949999809265137|\n",
      "|               da| 6.870000012715658|\n",
      "|               ja| 6.829228249285217|\n",
      "|               ko| 6.735714306150164|\n",
      "|               nb| 6.699999809265137|\n",
      "|               te|6.6333333651224775|\n",
      "|               hi| 6.626666673024496|\n",
      "|               cn| 6.602531650398351|\n",
      "|               de| 6.515384625165891|\n",
      "|               zh|6.4951456333827045|\n",
      "|               eu| 6.450000047683716|\n",
      "|               es| 6.410311754944799|\n",
      "|               ur| 6.400000095367432|\n",
      "|               is|6.3999998569488525|\n",
      "|               ru| 6.373913066974585|\n",
      "|               it| 6.345192336119139|\n",
      "+-----------------+------------------+\n",
      "only showing top 20 rows\n",
      "\n"
     ]
    }
   ],
   "source": [
    "# Determine the Vote Average Per Language\n",
    "vote_average_per_language = spark.sql(\"\"\"\n",
    "    SELECT original_language, AVG(vote_average) AS average_votes\n",
    "    FROM movies\n",
    "    GROUP BY original_language\n",
    "    ORDER BY average_votes DESC\n",
    "\"\"\")\n",
    "vote_average_per_language.show()\n"
   ]
  },
  {
   "cell_type": "code",
   "execution_count": 238,
   "id": "fecd184c-174b-4325-8d31-1a726f94ef26",
   "metadata": {},
   "outputs": [
    {
     "name": "stdout",
     "output_type": "stream",
     "text": [
      "+--------------------+--------------------+--------------+\n",
      "|      original_title|             tagline|tagline_length|\n",
      "+--------------------+--------------------+--------------+\n",
      "|        Dracula 3000| they see a tape ...|           254|\n",
      "| Singing in Oblivion| though passersby...|           247|\n",
      "|          Stay Alive| the kids begin t...|           242|\n",
      "|        Woman on Top| a sultry enchant...|           219|\n",
      "|I Walked with a Z...|See this strange;...|           217|\n",
      "|          Moonwalker| and then a movie...|           213|\n",
      "|        Modern Times|He stands alone a...|           206|\n",
      "|       Monkey Shines|Once there was a ...|           204|\n",
      "|        Galaxy Quest| aliens under att...|           182|\n",
      "|      The Messengers|There is evidence...|           182|\n",
      "+--------------------+--------------------+--------------+\n",
      "\n"
     ]
    }
   ],
   "source": [
    "# Determine the TOP 10 Original Titles with Largest Tagline \n",
    "largest_tagline = spark.sql(\"\"\"\n",
    "    SELECT original_title, tagline, LENGTH(tagline) AS tagline_length\n",
    "    FROM movies\n",
    "    WHERE tagline IS NOT NULL\n",
    "    ORDER BY tagline_length DESC\n",
    "    LIMIT 10\n",
    "\"\"\")\n",
    "largest_tagline.show()\n"
   ]
  },
  {
   "cell_type": "code",
   "execution_count": 239,
   "id": "3257ef33-3a50-4359-931f-cade47ac200e",
   "metadata": {},
   "outputs": [],
   "source": [
    "spark.conf.set(\"spark.sql.legacy.timeParserPolicy\", \"LEGACY\")"
   ]
  },
  {
   "cell_type": "code",
   "execution_count": 240,
   "id": "0c2471a4-ec6a-49bf-8cd4-cdd2d1aae432",
   "metadata": {},
   "outputs": [
    {
     "name": "stdout",
     "output_type": "stream",
     "text": [
      "+------------+--------------------+----------+\n",
      "|release_year|      original_title|   revenue|\n",
      "+------------+--------------------+----------+\n",
      "|        2009|              Avatar|2847246203|\n",
      "|        2019|   Avengers: Endgame|2797800564|\n",
      "|        1997|             Titanic|2187463944|\n",
      "|        2015|Star Wars: The Fo...|2068223624|\n",
      "|        2018|Avengers: Infinit...|2046239637|\n",
      "|        2012|        The Avengers|1518815515|\n",
      "|        2011|Harry Potter and ...|1341511219|\n",
      "|        2017|Star Wars: The La...|1332539889|\n",
      "|        2013|              Frozen|1274219009|\n",
      "|        2016|Captain America: ...|1153296293|\n",
      "|        2003|The Lord of the R...|1118888979|\n",
      "|        2010|         Toy Story 3|1066969703|\n",
      "|        2006|Pirates of the Ca...|1065659812|\n",
      "|        2008|     The Dark Knight|1004558444|\n",
      "|        2001|Harry Potter and ...| 976475550|\n",
      "|        2007|Pirates of the Ca...| 961000000|\n",
      "|        2014|The Hobbit: The B...| 956019788|\n",
      "|        2004|             Shrek 2| 928760770|\n",
      "|        2002|The Lord of the R...| 926287400|\n",
      "|        1999|Star Wars: Episod...| 924317558|\n",
      "+------------+--------------------+----------+\n",
      "only showing top 20 rows\n",
      "\n"
     ]
    }
   ],
   "source": [
    "#Determine the Highest Revenue Film in Each Year\n",
    "highest_revenue_per_year = spark.sql(\"\"\"\n",
    "    SELECT m.release_year, m.original_title, m.revenue\n",
    "    FROM (\n",
    "        SELECT release_year, MAX(revenue) AS max_revenue\n",
    "        FROM movies_with_year\n",
    "        WHERE revenue IS NOT NULL\n",
    "        GROUP BY release_year\n",
    "    ) AS max_revenue_per_year\n",
    "    JOIN movies_with_year m\n",
    "    ON m.release_year = max_revenue_per_year.release_year AND m.revenue = max_revenue_per_year.max_revenue\n",
    "\"\"\")\n",
    "highest_revenue_per_year.show()"
   ]
  },
  {
   "cell_type": "code",
   "execution_count": 243,
   "id": "b92e553a-1bf1-433b-b161-4a1bc50ebeb6",
   "metadata": {},
   "outputs": [
    {
     "name": "stdout",
     "output_type": "stream",
     "text": [
      "+--------------------+------------+--------------------+---------+-------+------------+\n",
      "|      original_title|release_date|               genre|  revenue|runtime|vote_average|\n",
      "+--------------------+------------+--------------------+---------+-------+------------+\n",
      "|                  F9|   5/19/2021|['Action', 'Crime...|721077945|    143|         7.4|\n",
      "|      No Time to Die|   9/29/2021|['Adventure', 'Ac...|667000000|    163|         7.4|\n",
      "|Zack Snyder's Jus...|   3/18/2021|['Action', 'Adven...|657000000|    242|         8.4|\n",
      "|   Godzilla vs. Kong|   3/24/2021|['Action', 'Adven...|467863133|    113|         7.9|\n",
      "|Shang-Chi and the...|    9/1/2021|['Action', 'Adven...|427480601|    132|         7.7|\n",
      "|Venom: Let There ...|   9/30/2021|['Science Fiction...|424000000|     97|         6.8|\n",
      "|         Black Widow|    7/7/2021|['Action', 'Adven...|378328978|    134|         7.7|\n",
      "|                Dune|   9/15/2021|['Action', 'Adven...|331116356|    155|         8.0|\n",
      "|            Free Guy|   8/11/2021|['Comedy', 'Actio...|331096766|    115|         7.8|\n",
      "|A Quiet Place Par...|   5/21/2021|['Science Fiction...|297372261|     97|         7.7|\n",
      "|             Cruella|   5/26/2021| ['Comedy', 'Crime']|233274812|    134|         8.3|\n",
      "|       Jungle Cruise|   7/28/2021|['Adventure', 'Fa...|213644366|    127|         7.8|\n",
      "|                怒火|   8/13/2021| ['Action', 'Crime']|205000000|    128|         7.2|\n",
      "|The Conjuring: Th...|   5/25/2021|['Horror', 'Myste...|199166992|    111|         7.8|\n",
      "|   The Suicide Squad|   7/28/2021|['Action', 'Adven...|167381210|    132|         7.8|\n",
      "|            Eternals|   11/3/2021|['Action', 'Adven...|165000000|    157|         7.1|\n",
      "|Peter Rabbit 2: T...|   3/25/2021|['Family', 'Comed...|153000000|     93|         7.4|\n",
      "|          刺杀小说家|   2/12/2021|['Drama', 'Action...|150000000|    130|         7.4|\n",
      "|Space Jam: A New ...|    7/8/2021|['Animation', 'Co...|148810604|    115|         7.3|\n",
      "|         Tom & Jerry|   2/11/2021|['Comedy', 'Famil...|132000000|    101|         7.1|\n",
      "+--------------------+------------+--------------------+---------+-------+------------+\n",
      "only showing top 20 rows\n",
      "\n"
     ]
    }
   ],
   "source": [
    "from pyspark.sql.functions import year, to_date\n",
    "\n",
    "# Extract the release year and add it as a new column\n",
    "df = df.withColumn(\"release_year\", year(to_date(df[\"release_date\"], \"MM/dd/yyyy\")))\n",
    "\n",
    "# Register the DataFrame as a temporary SQL view\n",
    "df.createOrReplaceTempView(\"movies_with_year\")\n",
    "\n",
    "# Replace `2021` with the desired year\n",
    "specific_year = 2021\n",
    "movies_in_year = spark.sql(f\"\"\"\n",
    "    SELECT original_title, release_date, genre, revenue, runtime, vote_average\n",
    "    FROM movies_with_year\n",
    "    WHERE release_year = {specific_year}\n",
    "\"\"\")\n",
    "\n",
    "# Show the result\n",
    "movies_in_year.show()\n"
   ]
  },
  {
   "cell_type": "code",
   "execution_count": 244,
   "id": "cc157cb4-307b-41cf-95f7-898d2b723055",
   "metadata": {},
   "outputs": [],
   "source": [
    "#Results Summary generated files.\n",
    "topMovies.coalesce(1).write.csv(\"topmovies.csv\", header=True, mode='overwrite')\n",
    "popular_movies.coalesce(1).write.csv(\"popularmovies.csv\", header=True, mode='overwrite')\n",
    "movies_per_language.coalesce(1).write.csv(\"movielang.csv\", header=True, mode='overwrite')\n",
    "longest_runtime_movies.coalesce(1).write.csv(\"longrun.csv\", header=True, mode='overwrite')\n",
    "vote_count_per_language.coalesce(1).write.csv(\"votecount.csv\", header=True, mode='overwrite')\n",
    "vote_average_per_language.coalesce(1).write.csv(\"voteaverage.csv\", header=True, mode='overwrite')\n",
    "largest_tagline.coalesce(1).write.csv(\"largesttag.csv\", header=True, mode='overwrite')\n",
    "highest_revenue_per_year.coalesce(1).write.csv(\"highrevenue.csv\", header=True, mode='overwrite')\n",
    "movies_in_year.coalesce(1).write.csv(\"moviesinayear.csv\", header=True, mode='overwrite')\n"
   ]
  },
  {
   "cell_type": "code",
   "execution_count": null,
   "id": "863509c3-2dc3-44e0-bb37-38f448266abd",
   "metadata": {},
   "outputs": [],
   "source": []
  }
 ],
 "metadata": {
  "kernelspec": {
   "display_name": "Python 3 (ipykernel)",
   "language": "python",
   "name": "python3"
  },
  "language_info": {
   "codemirror_mode": {
    "name": "ipython",
    "version": 3
   },
   "file_extension": ".py",
   "mimetype": "text/x-python",
   "name": "python",
   "nbconvert_exporter": "python",
   "pygments_lexer": "ipython3",
   "version": "3.12.7"
  }
 },
 "nbformat": 4,
 "nbformat_minor": 5
}
